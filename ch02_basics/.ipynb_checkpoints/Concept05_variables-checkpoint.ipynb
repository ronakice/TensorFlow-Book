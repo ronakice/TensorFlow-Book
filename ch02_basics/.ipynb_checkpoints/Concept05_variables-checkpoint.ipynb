{
 "cells": [
  {
   "cell_type": "markdown",
   "metadata": {},
   "source": [
    "# Ch `02`: Concept `05`"
   ]
  },
  {
   "cell_type": "markdown",
   "metadata": {},
   "source": [
    "## Using variables"
   ]
  },
  {
   "cell_type": "markdown",
   "metadata": {},
   "source": [
    "Here we go, here we go, here we go! Moving on from those simple examples, let's get a better understanding of variables. Start with a session:"
   ]
  },
  {
   "cell_type": "code",
   "execution_count": 1,
   "metadata": {
    "collapsed": false
   },
   "outputs": [],
   "source": [
    "import tensorflow as tf\n",
    "sess = tf.InteractiveSession()"
   ]
  },
  {
   "cell_type": "markdown",
   "metadata": {},
   "source": [
    "Below is a series of numbers. Don't worry what they mean. Just for fun, let's think of them as neural activations."
   ]
  },
  {
   "cell_type": "code",
   "execution_count": 2,
   "metadata": {
    "collapsed": true
   },
   "outputs": [],
   "source": [
    "raw_data = [1., 2., 8., -1., 0., 5.5, 6., 13]"
   ]
  },
  {
   "cell_type": "markdown",
   "metadata": {
    "collapsed": true
   },
   "source": [
    "Create a boolean variable called `spike` to detect a sudden increase in the values.\n",
    "\n",
    "All variables must be initialized. Go ahead and initialize the variable by calling `run()` on its `initializer`:"
   ]
  },
  {
   "cell_type": "code",
   "execution_count": 21,
   "metadata": {
    "collapsed": false
   },
   "outputs": [],
   "source": [
    "spike = tf.Variable(tf.constant(False))\n",
    "#can do spike=tf.Variable(False) no diff.\n",
    "spike.initializer.run()"
   ]
  },
  {
   "cell_type": "markdown",
   "metadata": {},
   "source": [
    "Loop through the data and update the spike variable when there is a significant increase:"
   ]
  },
  {
   "cell_type": "code",
   "execution_count": 23,
   "metadata": {
    "collapsed": false
   },
   "outputs": [
    {
     "name": "stdout",
     "output_type": "stream",
     "text": [
      "No Spike in interval 0-1\n",
      "Spike Value: False\n",
      "\n",
      "Spike in interval 1-2\n",
      "Spike Value: True\n",
      "\n",
      "No Spike in interval 2-3\n",
      "Spike Value: False\n",
      "\n",
      "No Spike in interval 3-4\n",
      "Spike Value: False\n",
      "\n",
      "Spike in interval 4-5\n",
      "Spike Value: True\n",
      "\n",
      "No Spike in interval 5-6\n",
      "Spike Value: False\n",
      "\n",
      "Spike in interval 6-7\n",
      "Spike Value: True\n",
      "\n"
     ]
    }
   ],
   "source": [
    "\n",
    "for i in range(1, len(raw_data)):\n",
    "    if raw_data[i] - raw_data[i-1] > 5:\n",
    "        print(\"Spike in interval %s-%s\"%(i-1,i))\n",
    "        #one way of update\n",
    "        updater=tf.assign(spike, True)\n",
    "        updater.eval()\n",
    "    else:\n",
    "        print(\"No Spike in interval %s-%s\"%(i-1,i))\n",
    "        #easier way\n",
    "        tf.assign(spike, False).eval()\n",
    "   \n",
    "    print(\"Spike Value:\", spike.eval())\n",
    "    print()"
   ]
  },
  {
   "cell_type": "markdown",
   "metadata": {},
   "source": [
    "You forgot to close the session! Here, let me do it:"
   ]
  },
  {
   "cell_type": "code",
   "execution_count": 24,
   "metadata": {
    "collapsed": true
   },
   "outputs": [],
   "source": [
    "sess.close()"
   ]
  }
 ],
 "metadata": {
  "kernelspec": {
   "display_name": "Python 3",
   "language": "python",
   "name": "python3"
  },
  "language_info": {
   "codemirror_mode": {
    "name": "ipython",
    "version": 3
   },
   "file_extension": ".py",
   "mimetype": "text/x-python",
   "name": "python",
   "nbconvert_exporter": "python",
   "pygments_lexer": "ipython3",
   "version": "3.5.2"
  }
 },
 "nbformat": 4,
 "nbformat_minor": 0
}
